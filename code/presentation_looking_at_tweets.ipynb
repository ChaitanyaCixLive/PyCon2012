{
 "metadata": {
  "name": "presentation_looking_at_tweets"
 }, 
 "nbformat": 2, 
 "worksheets": [
  {
   "cells": [
    {
     "cell_type": "code", 
     "collapsed": true, 
     "input": [
      "import gzip", 
      "f = gzip.open('data.json.gz')"
     ], 
     "language": "python", 
     "outputs": [], 
     "prompt_number": 1
    }, 
    {
     "cell_type": "code", 
     "collapsed": false, 
     "input": [
      "# View the first line of the json", 
      "f.readline()"
     ], 
     "language": "python", 
     "outputs": [
      {
       "output_type": "pyout", 
       "prompt_number": 2, 
       "text": [
        "&apos;{&quot;in_reply_to_user_id_str&quot;:null,&quot;truncated&quot;:false,&quot;text&quot;:&quot;And the award for the first Libya-related tweet in my news feed since the earthquake goes to @thedailybeast. Congratulations!&quot;,&quot;contributors&quot;:null,&quot;retweeted&quot;:false,&quot;created_at&quot;:&quot;Tue Aug 23 18:11:56 +0000 2011&quot;,&quot;retweet_count&quot;:0,&quot;entities&quot;:{&quot;user_mentions&quot;:[{&quot;indices&quot;:[93,107],&quot;screen_name&quot;:&quot;thedailybeast&quot;,&quot;name&quot;:&quot;The Daily Beast&quot;,&quot;id_str&quot;:&quot;16012783&quot;,&quot;id&quot;:16012783}],&quot;hashtags&quot;:[],&quot;urls&quot;:[]},&quot;place&quot;:null,&quot;source&quot;:&quot;\\\\u003Ca href=\\\\&quot;http:\\\\/\\\\/www.tweetdeck.com\\\\&quot; rel=\\\\&quot;nofollow\\\\&quot;\\\\u003ETweetDeck\\\\u003C\\\\/a\\\\u003E&quot;,&quot;geo&quot;:null,&quot;in_reply_to_user_id&quot;:null,&quot;favorited&quot;:false,&quot;in_reply_to_status_id_str&quot;:null,&quot;id_str&quot;:&quot;106066152383447040&quot;,&quot;user&quot;:{&quot;statuses_count&quot;:1767,&quot;verified&quot;:false,&quot;profile_background_tile&quot;:false,&quot;profile_background_image_url_https&quot;:&quot;https:\\\\/\\\\/si0.twimg.com\\\\/images\\\\/themes\\\\/theme5\\\\/bg.gif&quot;,&quot;favourites_count&quot;:4,&quot;notifications&quot;:null,&quot;created_at&quot;:&quot;Thu Feb 05 04:11:09 +0000 2009&quot;,&quot;contributors_enabled&quot;:false,&quot;profile_link_color&quot;:&quot;D02B55&quot;,&quot;profile_image_url&quot;:&quot;http:\\\\/\\\\/a1.twimg.com\\\\/profile_images\\\\/1147141398\\\\/61850_1395729615899_1311960070_30885397_6018485_n_normal.jpg&quot;,&quot;default_profile_image&quot;:false,&quot;lang&quot;:&quot;en&quot;,&quot;profile_sidebar_border_color&quot;:&quot;829D5E&quot;,&quot;profile_image_url_https&quot;:&quot;https:\\\\/\\\\/si0.twimg.com\\\\/profile_images\\\\/1147141398\\\\/61850_1395729615899_1311960070_30885397_6018485_n_normal.jpg&quot;,&quot;description&quot;:&quot;Reporter and assistant news editor for @CoMissourian. Graduating from the Missouri School of Journalism in December \\\\u2014 we\\&apos;ll see what happens afterward.&quot;,&quot;time_zone&quot;:&quot;Central Time (US &amp; Canada)&quot;,&quot;url&quot;:&quot;http:\\\\/\\\\/unhub.com\\\\/joshbarone&quot;,&quot;screen_name&quot;:&quot;joshbarone&quot;,&quot;profile_use_background_image&quot;:true,&quot;followers_count&quot;:409,&quot;follow_request_sent&quot;:null,&quot;following&quot;:null,&quot;profile_background_color&quot;:&quot;352726&quot;,&quot;default_profile&quot;:false,&quot;profile_background_image_url&quot;:&quot;http:\\\\/\\\\/a1.twimg.com\\\\/images\\\\/themes\\\\/theme5\\\\/bg.gif&quot;,&quot;protected&quot;:false,&quot;location&quot;:&quot;Columbia, Mo.&quot;,&quot;show_all_inline_media&quot;:false,&quot;geo_enabled&quot;:true,&quot;friends_count&quot;:273,&quot;name&quot;:&quot;Josh Barone&quot;,&quot;id_str&quot;:&quot;20119555&quot;,&quot;is_translator&quot;:false,&quot;profile_text_color&quot;:&quot;3E4415&quot;,&quot;id&quot;:20119555,&quot;listed_count&quot;:37,&quot;utc_offset&quot;:-21600,&quot;profile_sidebar_fill_color&quot;:&quot;99CC33&quot;},&quot;in_reply_to_status_id&quot;:null,&quot;id&quot;:106066152383447040,&quot;coordinates&quot;:null,&quot;in_reply_to_screen_name&quot;:null}\\r\\n&apos;"
       ]
      }
     ], 
     "prompt_number": 2
    }, 
    {
     "cell_type": "code", 
     "collapsed": true, 
     "input": [
      "tweets = list(gzip.open('data.json.gz'))"
     ], 
     "language": "python", 
     "outputs": [], 
     "prompt_number": 3
    }, 
    {
     "cell_type": "code", 
     "collapsed": false, 
     "input": [
      "len(tweets)"
     ], 
     "language": "python", 
     "outputs": [
      {
       "output_type": "pyout", 
       "prompt_number": 4, 
       "text": [
        "51764"
       ]
      }
     ], 
     "prompt_number": 4
    }, 
    {
     "cell_type": "code", 
     "collapsed": true, 
     "input": [
      "# out last tweet is bad, so let's delete it", 
      "# tweets[-1]", 
      "del tweets[-1]"
     ], 
     "language": "python", 
     "outputs": [], 
     "prompt_number": 5
    }, 
    {
     "cell_type": "code", 
     "collapsed": true, 
     "input": [
      "# right now they are just strings, so let's make them serialable objects", 
      "import simplejson", 
      "tweets = map(simplejson.loads, tweets)", 
      "# We use simplejson, because it is faster than the built in json"
     ], 
     "language": "python", 
     "outputs": [], 
     "prompt_number": 6
    }, 
    {
     "cell_type": "code", 
     "collapsed": false, 
     "input": [
      "# Grab screenname of first user", 
      "tweets[0]['user']['screen_name']", 
      "# The result is going to be the from"
     ], 
     "language": "python", 
     "outputs": [
      {
       "output_type": "pyout", 
       "prompt_number": 7, 
       "text": [
        "&apos;joshbarone&apos;"
       ]
      }
     ], 
     "prompt_number": 7
    }, 
    {
     "cell_type": "code", 
     "collapsed": false, 
     "input": [
      "tweets[0]['entities']['user_mentions']", 
      "# So there will be an edge between joshbarone & the dailybeast"
     ], 
     "language": "python", 
     "outputs": [
      {
       "output_type": "pyout", 
       "prompt_number": 8, 
       "text": [
        "[{&apos;id&apos;: 16012783,", 
        "  &apos;id_str&apos;: &apos;16012783&apos;,", 
        "  &apos;indices&apos;: [93, 107],", 
        "  &apos;name&apos;: &apos;The Daily Beast&apos;,", 
        "  &apos;screen_name&apos;: &apos;thedailybeast&apos;}]"
       ]
      }
     ], 
     "prompt_number": 8
    }, 
    {
     "cell_type": "code", 
     "collapsed": true, 
     "input": [
      "import collection"
     ], 
     "language": "python", 
     "outputs": [], 
     "prompt_number": 9
    }, 
    {
     "cell_type": "code", 
     "collapsed": true, 
     "input": [
      "# let's create a retweet map", 
      "retweets = map(collection.process_retweets, tweets)", 
      "# if you want to redo this, you need to reimport collections to reinitial the graph.", 
      "# Then rerun the process_retweets"
     ], 
     "language": "python", 
     "outputs": [], 
     "prompt_number": 29
    }, 
    {
     "cell_type": "code", 
     "collapsed": false, 
     "input": [
      "type(retweets)"
     ], 
     "language": "python", 
     "outputs": [
      {
       "output_type": "pyout", 
       "prompt_number": 34, 
       "text": [
        "list"
       ]
      }
     ], 
     "prompt_number": 34
    }, 
    {
     "cell_type": "code", 
     "collapsed": true, 
     "input": [
      "import networkx as nx"
     ], 
     "language": "python", 
     "outputs": [], 
     "prompt_number": 28
    }, 
    {
     "cell_type": "code", 
     "collapsed": false, 
     "input": [
      "deg = nx.degree(retweets)"
     ], 
     "language": "python", 
     "outputs": [
      {
       "ename": "AttributeError", 
       "evalue": "'list' object has no attribute 'degree'", 
       "output_type": "pyerr", 
       "traceback": [
        "<span class=\"ansired\">---------------------------------------------------------------------------</span>\n<span class=\"ansired\">AttributeError</span>                            Traceback (most recent call last)", 
        "<span class=\"ansigreen\">/Users/jakopanda/Projects/code/pycon/PyCon2012/code/&lt;ipython-input-30-fc19c4016da5&gt;</span> in <span class=\"ansicyan\">&lt;module&gt;</span><span class=\"ansiblue\">()</span>\n<span class=\"ansigreen\">----&gt; 1</span><span class=\"ansired\"> </span>deg <span class=\"ansiblue\">=</span> nx<span class=\"ansiblue\">.</span>degree<span class=\"ansiblue\">(</span>retweets<span class=\"ansiblue\">)</span><span class=\"ansiblue\"></span>\n", 
        "<span class=\"ansigreen\">/Users/jakopanda/.virtualenvs/pycon/lib/python2.6/site-packages/networkx/classes/function.pyc</span> in <span class=\"ansicyan\">degree</span><span class=\"ansiblue\">(G, nbunch, weight)</span>\n<span class=\"ansigreen\">     55</span>     If nbunch <span class=\"ansigreen\">is</span> ommitted<span class=\"ansiblue\">,</span> then <span class=\"ansigreen\">return</span> degrees of <span class=\"ansiblue\">*</span>all<span class=\"ansiblue\">*</span> nodes<span class=\"ansiblue\">.</span><span class=\"ansiblue\"></span>\n<span class=\"ansigreen\">     56</span>     &quot;&quot;&quot;\n<span class=\"ansigreen\">---&gt; 57</span><span class=\"ansired\">     </span><span class=\"ansigreen\">return</span> G<span class=\"ansiblue\">.</span>degree<span class=\"ansiblue\">(</span>nbunch<span class=\"ansiblue\">,</span>weight<span class=\"ansiblue\">)</span><span class=\"ansiblue\"></span>\n<span class=\"ansigreen\">     58</span> <span class=\"ansiblue\"></span>\n<span class=\"ansigreen\">     59</span> <span class=\"ansigreen\">def</span> neighbors<span class=\"ansiblue\">(</span>G<span class=\"ansiblue\">,</span>n<span class=\"ansiblue\">)</span><span class=\"ansiblue\">:</span><span class=\"ansiblue\"></span>\n", 
        "<span class=\"ansired\">AttributeError</span>: &apos;list&apos; object has no attribute &apos;degree&apos;"
       ]
      }
     ], 
     "prompt_number": 30
    }, 
    {
     "cell_type": "code", 
     "collapsed": false, 
     "input": [
      "max(deg.values())"
     ], 
     "language": "python", 
     "outputs": [
      {
       "ename": "NameError", 
       "evalue": "name 'deg' is not defined", 
       "output_type": "pyerr", 
       "traceback": [
        "<span class=\"ansired\">---------------------------------------------------------------------------</span>\n<span class=\"ansired\">NameError</span>                                 Traceback (most recent call last)", 
        "<span class=\"ansigreen\">/Users/jakopanda/Projects/code/pycon/PyCon2012/code/&lt;ipython-input-18-e695a3a5a3aa&gt;</span> in <span class=\"ansicyan\">&lt;module&gt;</span><span class=\"ansiblue\">()</span>\n<span class=\"ansigreen\">----&gt; 1</span><span class=\"ansired\"> </span>max<span class=\"ansiblue\">(</span>deg<span class=\"ansiblue\">.</span>values<span class=\"ansiblue\">(</span><span class=\"ansiblue\">)</span><span class=\"ansiblue\">)</span><span class=\"ansiblue\"></span>\n", 
        "<span class=\"ansired\">NameError</span>: name &apos;deg&apos; is not defined"
       ]
      }
     ], 
     "prompt_number": 18
    }, 
    {
     "cell_type": "code", 
     "collapsed": false, 
     "input": [
      "# trim out all the nodes with a degree of 1", 
      "g2 = util.trim_degrees(g)"
     ], 
     "language": "python", 
     "outputs": [
      {
       "ename": "NameError", 
       "evalue": "name 'util' is not defined", 
       "output_type": "pyerr", 
       "traceback": [
        "<span class=\"ansired\">---------------------------------------------------------------------------</span>\n<span class=\"ansired\">NameError</span>                                 Traceback (most recent call last)", 
        "<span class=\"ansigreen\">/Users/jakopanda/Projects/code/pycon/PyCon2012/code/&lt;ipython-input-19-0a452317d730&gt;</span> in <span class=\"ansicyan\">&lt;module&gt;</span><span class=\"ansiblue\">()</span>\n<span class=\"ansigreen\">      1</span> <span class=\"ansired\"># trim out all the nodes with a degree of 1</span>\n<span class=\"ansiblue\"></span>\n<span class=\"ansigreen\">----&gt; 2</span><span class=\"ansired\"> </span>g2 <span class=\"ansiblue\">=</span> util<span class=\"ansiblue\">.</span>trim_degrees<span class=\"ansiblue\">(</span>g<span class=\"ansiblue\">)</span><span class=\"ansiblue\"></span>\n", 
        "<span class=\"ansired\">NameError</span>: name &apos;util&apos; is not defined"
       ]
      }
     ], 
     "prompt_number": 19
    }, 
    {
     "cell_type": "code", 
     "collapsed": false, 
     "input": [
      "# how many do we have left?", 
      "len(g2)", 
      "# 7900, so that is quite a bit still, let's trim more"
     ], 
     "language": "python", 
     "outputs": [
      {
       "ename": "NameError", 
       "evalue": "name 'g2' is not defined", 
       "output_type": "pyerr", 
       "traceback": [
        "<span class=\"ansired\">---------------------------------------------------------------------------</span>\n<span class=\"ansired\">NameError</span>                                 Traceback (most recent call last)", 
        "<span class=\"ansigreen\">/Users/jakopanda/Projects/code/pycon/PyCon2012/code/&lt;ipython-input-21-35448bcd59a2&gt;</span> in <span class=\"ansicyan\">&lt;module&gt;</span><span class=\"ansiblue\">()</span>\n<span class=\"ansigreen\">      1</span> <span class=\"ansired\"># how many do we have left?</span>\n<span class=\"ansiblue\"></span>\n<span class=\"ansigreen\">----&gt; 2</span><span class=\"ansired\"> </span>len<span class=\"ansiblue\">(</span>g2<span class=\"ansiblue\">)</span><span class=\"ansiblue\"></span>\n", 
        "<span class=\"ansired\">NameError</span>: name &apos;g2&apos; is not defined"
       ]
      }
     ], 
     "prompt_number": 21
    }, 
    {
     "cell_type": "code", 
     "collapsed": false, 
     "input": [
      "g2 = util.trim_degrees(g2)", 
      "g2 = util.trim_degrees(g2)", 
      "g2 = util.trim_degrees(g2)", 
      "# continue to run it until len(g2) stops changes"
     ], 
     "language": "python", 
     "outputs": [
      {
       "ename": "NameError", 
       "evalue": "name 'util' is not defined", 
       "output_type": "pyerr", 
       "traceback": [
        "<span class=\"ansired\">---------------------------------------------------------------------------</span>\n<span class=\"ansired\">NameError</span>                                 Traceback (most recent call last)", 
        "<span class=\"ansigreen\">/Users/jakopanda/Projects/code/pycon/PyCon2012/code/&lt;ipython-input-23-e6a51b575cad&gt;</span> in <span class=\"ansicyan\">&lt;module&gt;</span><span class=\"ansiblue\">()</span>\n<span class=\"ansigreen\">----&gt; 1</span><span class=\"ansired\"> </span>g2 <span class=\"ansiblue\">=</span> util<span class=\"ansiblue\">.</span>trim_degrees<span class=\"ansiblue\">(</span>g2<span class=\"ansiblue\">)</span><span class=\"ansiblue\"></span>\n<span class=\"ansigreen\">      2</span> g2 <span class=\"ansiblue\">=</span> util<span class=\"ansiblue\">.</span>trim_degrees<span class=\"ansiblue\">(</span>g2<span class=\"ansiblue\">)</span><span class=\"ansiblue\"></span>\n<span class=\"ansigreen\">      3</span> g2 <span class=\"ansiblue\">=</span> util<span class=\"ansiblue\">.</span>trim_degrees<span class=\"ansiblue\">(</span>g2<span class=\"ansiblue\">)</span><span class=\"ansiblue\"></span>\n<span class=\"ansigreen\">      4</span> <span class=\"ansired\"># continue to run it until len(g2) stops changes it</span>\n<span class=\"ansiblue\"></span>\n", 
        "<span class=\"ansired\">NameError</span>: name &apos;util&apos; is not defined"
       ]
      }
     ], 
     "prompt_number": 23
    }, 
    {
     "cell_type": "code", 
     "collapsed": false, 
     "input": [
      "# To compute closeness - we are going to skip this, because it TAKES FOREVER!", 
      "# So we are going to do page rank", 
      "pr = nx.pagerank(g2)", 
      "plot.hist(pr.values, 100)"
     ], 
     "language": "python", 
     "outputs": [
      {
       "ename": "NameError", 
       "evalue": "name 'g2' is not defined", 
       "output_type": "pyerr", 
       "traceback": [
        "<span class=\"ansired\">---------------------------------------------------------------------------</span>\n<span class=\"ansired\">NameError</span>                                 Traceback (most recent call last)", 
        "<span class=\"ansigreen\">/Users/jakopanda/Projects/code/pycon/PyCon2012/code/&lt;ipython-input-24-23c39514f595&gt;</span> in <span class=\"ansicyan\">&lt;module&gt;</span><span class=\"ansiblue\">()</span>\n<span class=\"ansigreen\">      1</span> <span class=\"ansired\"># To compute closeness - we are going to skip this, because it TAKES FOREVER!</span>\n<span class=\"ansiblue\"></span>\n<span class=\"ansigreen\">      2</span> <span class=\"ansired\"># So we are going to do page rank</span>\n<span class=\"ansiblue\"></span>\n<span class=\"ansigreen\">----&gt; 3</span><span class=\"ansired\"> </span>pr <span class=\"ansiblue\">=</span> nx<span class=\"ansiblue\">.</span>pagerank<span class=\"ansiblue\">(</span>g2<span class=\"ansiblue\">)</span><span class=\"ansiblue\"></span>\n<span class=\"ansigreen\">      4</span> plot<span class=\"ansiblue\">.</span>hist<span class=\"ansiblue\">(</span>pr<span class=\"ansiblue\">.</span>values<span class=\"ansiblue\">,</span> <span class=\"ansicyan\">100</span><span class=\"ansiblue\">)</span><span class=\"ansiblue\"></span>\n", 
        "<span class=\"ansired\">NameError</span>: name &apos;g2&apos; is not defined"
       ]
      }
     ], 
     "prompt_number": 24
    }, 
    {
     "cell_type": "code", 
     "collapsed": true, 
     "input": [
      "import util"
     ], 
     "language": "python", 
     "outputs": [], 
     "prompt_number": 32
    }, 
    {
     "cell_type": "code", 
     "collapsed": false, 
     "input": [
      "sd = util.sorted_degree(g)"
     ], 
     "language": "python", 
     "outputs": [
      {
       "ename": "AttributeError", 
       "evalue": "'list' object has no attribute 'degree'", 
       "output_type": "pyerr", 
       "traceback": [
        "<span class=\"ansired\">---------------------------------------------------------------------------</span>\n<span class=\"ansired\">AttributeError</span>                            Traceback (most recent call last)", 
        "<span class=\"ansigreen\">/Users/jakopanda/Projects/code/pycon/PyCon2012/code/&lt;ipython-input-33-af5201145092&gt;</span> in <span class=\"ansicyan\">&lt;module&gt;</span><span class=\"ansiblue\">()</span>\n<span class=\"ansigreen\">----&gt; 1</span><span class=\"ansired\"> </span>sd <span class=\"ansiblue\">=</span> util<span class=\"ansiblue\">.</span>sorted_degree<span class=\"ansiblue\">(</span>g<span class=\"ansiblue\">)</span><span class=\"ansiblue\"></span>\n", 
        "<span class=\"ansigreen\">/Users/jakopanda/Projects/code/pycon/PyCon2012/code/util.pyc</span> in <span class=\"ansicyan\">sorted_degree</span><span class=\"ansiblue\">(g)</span>\n<span class=\"ansigreen\">     13</span> <span class=\"ansiblue\"></span>\n<span class=\"ansigreen\">     14</span> <span class=\"ansigreen\">def</span> sorted_degree<span class=\"ansiblue\">(</span>g<span class=\"ansiblue\">)</span><span class=\"ansiblue\">:</span><span class=\"ansiblue\"></span>\n<span class=\"ansigreen\">---&gt; 15</span><span class=\"ansired\">     </span>d <span class=\"ansiblue\">=</span> nx<span class=\"ansiblue\">.</span>degree<span class=\"ansiblue\">(</span>g<span class=\"ansiblue\">)</span><span class=\"ansiblue\"></span>\n<span class=\"ansigreen\">     16</span>     ds <span class=\"ansiblue\">=</span> sorted<span class=\"ansiblue\">(</span>d<span class=\"ansiblue\">.</span>iteritems<span class=\"ansiblue\">(</span><span class=\"ansiblue\">)</span><span class=\"ansiblue\">,</span> key<span class=\"ansiblue\">=</span><span class=\"ansigreen\">lambda</span> <span class=\"ansiblue\">(</span>k<span class=\"ansiblue\">,</span>v<span class=\"ansiblue\">)</span><span class=\"ansiblue\">:</span> <span class=\"ansiblue\">(</span><span class=\"ansiblue\">-</span>v<span class=\"ansiblue\">,</span>k<span class=\"ansiblue\">)</span><span class=\"ansiblue\">)</span><span class=\"ansiblue\"></span>\n<span class=\"ansigreen\">     17</span>     <span class=\"ansigreen\">return</span> ds<span class=\"ansiblue\"></span>\n", 
        "<span class=\"ansigreen\">/Users/jakopanda/.virtualenvs/pycon/lib/python2.6/site-packages/networkx/classes/function.pyc</span> in <span class=\"ansicyan\">degree</span><span class=\"ansiblue\">(G, nbunch, weight)</span>\n<span class=\"ansigreen\">     55</span>     If nbunch <span class=\"ansigreen\">is</span> ommitted<span class=\"ansiblue\">,</span> then <span class=\"ansigreen\">return</span> degrees of <span class=\"ansiblue\">*</span>all<span class=\"ansiblue\">*</span> nodes<span class=\"ansiblue\">.</span><span class=\"ansiblue\"></span>\n<span class=\"ansigreen\">     56</span>     &quot;&quot;&quot;\n<span class=\"ansigreen\">---&gt; 57</span><span class=\"ansired\">     </span><span class=\"ansigreen\">return</span> G<span class=\"ansiblue\">.</span>degree<span class=\"ansiblue\">(</span>nbunch<span class=\"ansiblue\">,</span>weight<span class=\"ansiblue\">)</span><span class=\"ansiblue\"></span>\n<span class=\"ansigreen\">     58</span> <span class=\"ansiblue\"></span>\n<span class=\"ansigreen\">     59</span> <span class=\"ansigreen\">def</span> neighbors<span class=\"ansiblue\">(</span>G<span class=\"ansiblue\">,</span>n<span class=\"ansiblue\">)</span><span class=\"ansiblue\">:</span><span class=\"ansiblue\"></span>\n", 
        "<span class=\"ansired\">AttributeError</span>: &apos;list&apos; object has no attribute &apos;degree&apos;"
       ]
      }
     ], 
     "prompt_number": 33
    }, 
    {
     "cell_type": "code", 
     "collapsed": true, 
     "input": [
      "g.remove_edges_from(g.selfloop_edges())", 
      "core = nx.k_core(g, k=1)", 
      "len(core)", 
      "core = nx.k_core(g, k=2)", 
      "core = nx.k_core(g, k=3)", 
      "len(core)", 
      "# 167"
     ], 
     "language": "python", 
     "outputs": [], 
     "prompt_number": "&nbsp;"
    }
   ]
  }
 ]
}