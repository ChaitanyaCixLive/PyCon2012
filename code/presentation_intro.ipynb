{
 "metadata": {
  "name": "presentation_intro"
 }, 
 "nbformat": 2, 
 "worksheets": [
  {
   "cells": [
    {
     "cell_type": "code", 
     "collapsed": true, 
     "input": [
      "import networkx as nx"
     ], 
     "language": "python", 
     "outputs": [], 
     "prompt_number": 3
    }, 
    {
     "cell_type": "code", 
     "collapsed": true, 
     "input": [
      "# Create a graph", 
      "g = nx.Graph()"
     ], 
     "language": "python", 
     "outputs": [], 
     "prompt_number": 4
    }, 
    {
     "cell_type": "code", 
     "collapsed": true, 
     "input": [
      "# Add some nodes", 
      "g.add_node(1)", 
      "g.add_node(2)", 
      "g.add_nodes_from(\"asdf\")"
     ], 
     "language": "python", 
     "outputs": [], 
     "prompt_number": 5
    }, 
    {
     "cell_type": "code", 
     "collapsed": false, 
     "input": [
      "# Show the nodes", 
      "g.nodes()"
     ], 
     "language": "python", 
     "outputs": [
      {
       "output_type": "pyout", 
       "prompt_number": 6, 
       "text": [
        "[&apos;a&apos;, 1, 2, &apos;d&apos;, &apos;f&apos;, &apos;s&apos;]"
       ]
      }
     ], 
     "prompt_number": 6
    }, 
    {
     "cell_type": "code", 
     "collapsed": false, 
     "input": [
      "list(g.nodes_iter())"
     ], 
     "language": "python", 
     "outputs": [
      {
       "output_type": "pyout", 
       "prompt_number": 7, 
       "text": [
        "[&apos;a&apos;, 1, 2, &apos;d&apos;, &apos;f&apos;, &apos;s&apos;]"
       ]
      }
     ], 
     "prompt_number": 7
    }, 
    {
     "cell_type": "code", 
     "collapsed": true, 
     "input": [
      "# Get information on nodes", 
      "g.nodes?"
     ], 
     "language": "python", 
     "outputs": [], 
     "prompt_number": 8
    }, 
    {
     "cell_type": "code", 
     "collapsed": false, 
     "input": [
      "# draw the network", 
      "nx.draw(g)"
     ], 
     "language": "python", 
     "outputs": [
      {
       "output_type": "display_data", 
       "png": "[encoded data removed]"
      }
     ], 
     "prompt_number": 9
    }, 
    {
     "cell_type": "code", 
     "collapsed": false, 
     "input": [
      "# add some edges", 
      "g.add_edge(1,2)", 
      "g.add_edge(1,'foo')", 
      "nx.draw(g)"
     ], 
     "language": "python", 
     "outputs": [
      {
       "output_type": "display_data", 
       "png": "[encoded data removed]"
      }
     ], 
     "prompt_number": 10
    }, 
    {
     "cell_type": "code", 
     "collapsed": false, 
     "input": [
      "# Everything in networkx is a dict, so you can treat everything that way", 
      "g.__dict__"
     ], 
     "language": "python", 
     "outputs": [
      {
       "output_type": "pyout", 
       "prompt_number": 11, 
       "text": [
        "{&apos;adj&apos;: {1: {2: {}, &apos;foo&apos;: {}},", 
        "  2: {1: {}},", 
        "  &apos;a&apos;: {},", 
        "  &apos;d&apos;: {},", 
        "  &apos;f&apos;: {},", 
        "  &apos;foo&apos;: {1: {}},", 
        "  &apos;s&apos;: {}},", 
        " &apos;edge&apos;: {1: {2: {}, &apos;foo&apos;: {}},", 
        "  2: {1: {}},", 
        "  &apos;a&apos;: {},", 
        "  &apos;d&apos;: {},", 
        "  &apos;f&apos;: {},", 
        "  &apos;foo&apos;: {1: {}},", 
        "  &apos;s&apos;: {}},", 
        " &apos;graph&apos;: {},", 
        " &apos;node&apos;: {1: {}, 2: {}, &apos;a&apos;: {}, &apos;d&apos;: {}, &apos;f&apos;: {}, &apos;foo&apos;: {}, &apos;s&apos;: {}}}"
       ]
      }
     ], 
     "prompt_number": 11
    }, 
    {
     "cell_type": "code", 
     "collapsed": false, 
     "input": [
      "g.node[1]", 
      "# Is an empty dict, so let's add something"
     ], 
     "language": "python", 
     "outputs": [
      {
       "output_type": "pyout", 
       "prompt_number": 12, 
       "text": [
        "{}"
       ]
      }
     ], 
     "prompt_number": 12
    }, 
    {
     "cell_type": "code", 
     "collapsed": true, 
     "input": [
      "g.node[1]['foobar'] = 1", 
      "g.node[2]['foobar'] = 3"
     ], 
     "language": "python", 
     "outputs": [], 
     "prompt_number": 13
    }, 
    {
     "cell_type": "code", 
     "collapsed": true, 
     "input": [
      "# add weight"
     ], 
     "language": "python", 
     "outputs": [], 
     "prompt_number": 14
    }, 
    {
     "cell_type": "code", 
     "collapsed": false, 
     "input": [
      "# undirect graph", 
      "nx.Graph()", 
      "# directed graph", 
      "nx.DiGraph()"
     ], 
     "language": "python", 
     "outputs": [
      {
       "output_type": "pyout", 
       "prompt_number": 15, 
       "text": [
        "&lt;networkx.classes.digraph.DiGraph at 0x104a4b910&gt;"
       ]
      }
     ], 
     "prompt_number": 15
    }, 
    {
     "cell_type": "code", 
     "collapsed": true, 
     "input": [
      "g = nx.small.krackhardt_kite_graph()"
     ], 
     "language": "python", 
     "outputs": [], 
     "prompt_number": 16
    }, 
    {
     "cell_type": "code", 
     "collapsed": false, 
     "input": [
      "g.node"
     ], 
     "language": "python", 
     "outputs": [
      {
       "output_type": "pyout", 
       "prompt_number": 17, 
       "text": [
        "{0: {}, 1: {}, 2: {}, 3: {}, 4: {}, 5: {}, 6: {}, 7: {}, 8: {}, 9: {}}"
       ]
      }
     ], 
     "prompt_number": 17
    }, 
    {
     "cell_type": "code", 
     "collapsed": false, 
     "input": [
      "g.nodes()"
     ], 
     "language": "python", 
     "outputs": [
      {
       "output_type": "pyout", 
       "prompt_number": 18, 
       "text": [
        "[0, 1, 2, 3, 4, 5, 6, 7, 8, 9]"
       ]
      }
     ], 
     "prompt_number": 18
    }, 
    {
     "cell_type": "code", 
     "collapsed": false, 
     "input": [
      "# agency list", 
      "g.edges()"
     ], 
     "language": "python", 
     "outputs": [
      {
       "output_type": "pyout", 
       "prompt_number": 19, 
       "text": [
        "[(0, 1),", 
        " (0, 2),", 
        " (0, 3),", 
        " (0, 5),", 
        " (1, 3),", 
        " (1, 4),", 
        " (1, 6),", 
        " (2, 3),", 
        " (2, 5),", 
        " (3, 4),", 
        " (3, 5),", 
        " (3, 6),", 
        " (4, 6),", 
        " (5, 6),", 
        " (5, 7),", 
        " (6, 7),", 
        " (7, 8),", 
        " (8, 9)]"
       ]
      }
     ], 
     "prompt_number": 19
    }, 
    {
     "cell_type": "code", 
     "collapsed": false, 
     "input": [
      "nx.draw(g)"
     ], 
     "language": "python", 
     "outputs": [
      {
       "output_type": "display_data", 
       "png": "[encoded data removed]"
      }
     ], 
     "prompt_number": 20
    }, 
    {
     "cell_type": "code", 
     "collapsed": true, 
     "input": [
      "d = nx.to_dict_of_dicts(g)", 
      "# same as ", 
      "# nx.edges"
     ], 
     "language": "python", 
     "outputs": [], 
     "prompt_number": 21
    }, 
    {
     "cell_type": "code", 
     "collapsed": true, 
     "input": [
      "# Create a new graph from our dict_of_dicts", 
      "g2 = nx.from_dict_of_dicts(d)"
     ], 
     "language": "python", 
     "outputs": [], 
     "prompt_number": 22
    }, 
    {
     "cell_type": "code", 
     "collapsed": false, 
     "input": [
      "# dumps as a json object", 
      "import simplejson", 
      "simplejson.dumps(nx.to_dict_of_dicts(g))"
     ], 
     "language": "python", 
     "outputs": [
      {
       "output_type": "pyout", 
       "prompt_number": 23, 
       "text": [
        "&apos;{&quot;0&quot;: {&quot;1&quot;: {}, &quot;2&quot;: {}, &quot;3&quot;: {}, &quot;5&quot;: {}}, &quot;1&quot;: {&quot;0&quot;: {}, &quot;3&quot;: {}, &quot;4&quot;: {}, &quot;6&quot;: {}}, &quot;2&quot;: {&quot;0&quot;: {}, &quot;3&quot;: {}, &quot;5&quot;: {}}, &quot;3&quot;: {&quot;0&quot;: {}, &quot;1&quot;: {}, &quot;2&quot;: {}, &quot;4&quot;: {}, &quot;5&quot;: {}, &quot;6&quot;: {}}, &quot;4&quot;: {&quot;1&quot;: {}, &quot;3&quot;: {}, &quot;6&quot;: {}}, &quot;5&quot;: {&quot;0&quot;: {}, &quot;2&quot;: {}, &quot;3&quot;: {}, &quot;6&quot;: {}, &quot;7&quot;: {}}, &quot;6&quot;: {&quot;1&quot;: {}, &quot;3&quot;: {}, &quot;4&quot;: {}, &quot;5&quot;: {}, &quot;7&quot;: {}}, &quot;7&quot;: {&quot;8&quot;: {}, &quot;5&quot;: {}, &quot;6&quot;: {}}, &quot;8&quot;: {&quot;9&quot;: {}, &quot;7&quot;: {}}, &quot;9&quot;: {&quot;8&quot;: {}}}&apos;"
       ]
      }
     ], 
     "prompt_number": 23
    }, 
    {
     "cell_type": "code", 
     "collapsed": false, 
     "input": [
      "import pickle", 
      "s = pickle.dumps(g)", 
      "g3 = pickle.loads(s)", 
      "nx.draw(g3)"
     ], 
     "language": "python", 
     "outputs": [
      {
       "output_type": "display_data", 
       "png": "[encoded data removed]"
      }
     ], 
     "prompt_number": 25
    }, 
    {
     "cell_type": "code", 
     "collapsed": false, 
     "input": [
      "# Write out to pajek to interchange data with other files", 
      "nx.write_pajek(g, 'foo.net')", 
      "!cat foo.net"
     ], 
     "language": "python", 
     "outputs": [
      {
       "output_type": "stream", 
       "stream": "stdout", 
       "text": [
        "*network Krackhardt Kite Social Network", 
        "*vertices 10", 
        "1 0 0.0 0.0 ellipse", 
        "2 1 0.0 0.0 ellipse", 
        "3 2 0.0 0.0 ellipse", 
        "4 3 0.0 0.0 ellipse", 
        "5 4 0.0 0.0 ellipse", 
        "6 5 0.0 0.0 ellipse", 
        "7 6 0.0 0.0 ellipse", 
        "8 7 0.0 0.0 ellipse", 
        "9 8 0.0 0.0 ellipse", 
        "10 9 0.0 0.0 ellipse", 
        "*edges", 
        "1 2 1.0", 
        "1 3 1.0", 
        "1 4 1.0", 
        "1 6 1.0", 
        "2 4 1.0", 
        "2 5 1.0", 
        "2 7 1.0", 
        "3 4 1.0", 
        "3 6 1.0", 
        "4 5 1.0", 
        "4 6 1.0", 
        "4 7 1.0", 
        "5 7 1.0", 
        "6 7 1.0", 
        "6 8 1.0", 
        "7 8 1.0", 
        "8 9 1.0", 
        "9 10 1.0"
       ]
      }
     ], 
     "prompt_number": 33
    }, 
    {
     "cell_type": "code", 
     "collapsed": true, 
     "input": [], 
     "language": "python", 
     "outputs": [], 
     "prompt_number": 34
    }, 
    {
     "cell_type": "code", 
     "collapsed": true, 
     "input": [], 
     "language": "python", 
     "outputs": [], 
     "prompt_number": "&nbsp;"
    }
   ]
  }
 ]
}